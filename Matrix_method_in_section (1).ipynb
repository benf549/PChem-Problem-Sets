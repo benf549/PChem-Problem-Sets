{
 "cells": [
  {
   "cell_type": "code",
   "execution_count": 1,
   "metadata": {},
   "outputs": [],
   "source": [
    "import pandas as pd\n",
    "import numpy as np\n",
    "import matplotlib.pyplot as plt\n",
    "import sympy as sp"
   ]
  },
  {
   "cell_type": "code",
   "execution_count": 14,
   "metadata": {},
   "outputs": [
    {
     "data": {
      "text/plain": [
       "0.3896329498086169"
      ]
     },
     "execution_count": 14,
     "metadata": {},
     "output_type": "execute_result"
    }
   ],
   "source": [
    "k, t = sp.symbols('k t')\n",
    "\n",
    "w = sp.Matrix([[k*t, 1],[k, 1]])\n",
    "n = sp.Matrix([[0, 1]])\n",
    "c = sp.Matrix([[1],[1]])\n",
    "\n",
    "rho4 = n*w**4*c\n",
    "rho4simple = sp.simplify(rho4[0])\n",
    "\n",
    "#sp.diff(rho4simple, k)  #d/dk\n",
    "\n",
    "fh4 = k/(10*rho4simple)*sp.diff(rho4simple, k)\n",
    "\n",
    "fh4lamb = sp.lambdify([k, t], fh4)\n",
    "fh4lamb(0.05, 434)\n",
    "\n"
   ]
  }
 ],
 "metadata": {
  "kernelspec": {
   "display_name": "Python 3",
   "language": "python",
   "name": "python3"
  },
  "language_info": {
   "codemirror_mode": {
    "name": "ipython",
    "version": 3
   },
   "file_extension": ".py",
   "mimetype": "text/x-python",
   "name": "python",
   "nbconvert_exporter": "python",
   "pygments_lexer": "ipython3",
   "version": "3.8.5"
  }
 },
 "nbformat": 4,
 "nbformat_minor": 4
}
