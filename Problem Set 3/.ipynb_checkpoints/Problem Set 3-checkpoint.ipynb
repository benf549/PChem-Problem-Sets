{
 "cells": [
  {
   "cell_type": "code",
   "execution_count": 1,
   "metadata": {},
   "outputs": [],
   "source": [
    "import numpy as np\n",
    "import matplotlib.pyplot as plt"
   ]
  },
  {
   "cell_type": "markdown",
   "metadata": {},
   "source": [
    "### Problem 3.1\n",
    "*Part A*"
   ]
  },
  {
   "cell_type": "code",
   "execution_count": 2,
   "metadata": {},
   "outputs": [
    {
     "name": "stdout",
     "output_type": "stream",
     "text": [
      "182.68823748261997\n"
     ]
    }
   ],
   "source": [
    "n = 0.05 #num moles\n",
    "Va = 0.0001 #Volume (m^3)\n",
    "Th = 400 #Temp (K)\n",
    "Vb = 0.0003 #Volume (m^3)\n",
    "Vc = 0.0005 #Volume (m^3)\n",
    "Tc = 284.5 #Temp (K)\n",
    "Vd = 0.000167 #Volume (m^3)\n",
    "R = 8.3145 #IDG const. J/m^3*K\n",
    "\n",
    "#Heatflow into engine:\n",
    "q_out = n*R*Th*np.log(Va/Vb) #Heat in Joules\n",
    "q_in = -q_out\n",
    "print(q_in)"
   ]
  },
  {
   "cell_type": "markdown",
   "metadata": {},
   "source": [
    "*Part B*"
   ]
  },
  {
   "cell_type": "code",
   "execution_count": 3,
   "metadata": {
    "scrolled": true
   },
   "outputs": [
    {
     "name": "stdout",
     "output_type": "stream",
     "text": [
      "52.98753986550585\n"
     ]
    }
   ],
   "source": [
    "#work done by engine\n",
    "w_carnot_cycle = -n*R*Th*np.log(Va/Vb) - n*R*Tc*np.log(Vc/Vd) #Work in Joules\n",
    "print(w_carnot_cycle)"
   ]
  },
  {
   "cell_type": "markdown",
   "metadata": {},
   "source": [
    "*Part D*"
   ]
  },
  {
   "cell_type": "code",
   "execution_count": 4,
   "metadata": {},
   "outputs": [
    {
     "data": {
      "text/plain": [
       "Text(0.5, 1.0, 'Heat vs. Entropy for Carnot Cycle')"
      ]
     },
     "execution_count": 4,
     "metadata": {},
     "output_type": "execute_result"
    },
    {
     "data": {
      "image/png": "[encoded data removed]",
      "text/plain": [
       "<Figure size 432x288 with 1 Axes>"
      ]
     },
     "metadata": {
      "needs_background": "light"
     },
     "output_type": "display_data"
    }
   ],
   "source": [
    "S_a = 0.3 #J/K\n",
    "DeltS_Th = n*R*np.log(Vb/Va) #J/K\n",
    "S_b = DeltS_Th + S_a #J/K\n",
    "DeltS_Tc = n*R*np.log(Vd/Vc) #J/K\n",
    "S_c = S_b\n",
    "S_d = DeltS_Tc + S_c\n",
    "\n",
    "Sh = np.linspace(S_a, S_b, 100)\n",
    "Ths = [Th for x in range(100)]\n",
    "\n",
    "Sc = np.linspace(S_c, S_d, 100)\n",
    "Tcs = [Tc for x in range(100)]\n",
    "\n",
    "plt.plot(Sh, Ths, label=\"isothermal expansion\", color = 'g')\n",
    "plt.vlines(x = S_b, ymax = Th, ymin = Tc, color = 'b', label=\"adiabatic cooling\")\n",
    "plt.plot(Sc, Tcs, label=\"isothermal compression\", color = 'm')\n",
    "plt.vlines(x = S_d, ymax = Th, ymin = Tc, color = 'r', label=\"adiabatic heating\")\n",
    "plt.axis([0,1,0,500])\n",
    "plt.ylabel(\"T (K)\")\n",
    "plt.xlabel(\"S (J*K$^{-1}$)\")\n",
    "plt.legend()\n",
    "plt.title(\"Heat vs. Entropy for Carnot Cycle\")"
   ]
  },
  {
   "cell_type": "markdown",
   "metadata": {},
   "source": [
    "*Part E*"
   ]
  },
  {
   "cell_type": "code",
   "execution_count": 5,
   "metadata": {},
   "outputs": [
    {
     "name": "stdout",
     "output_type": "stream",
     "text": [
      "52.75122857310652\n"
     ]
    }
   ],
   "source": [
    "A = (S_b - S_a) * (Th - Tc) #Simple area formula: Delta_Y * Delta_X\n",
    "print(A) #J (about equal to work!)"
   ]
  },
  {
   "cell_type": "markdown",
   "metadata": {},
   "source": [
    "### Problem 3.2\n"
   ]
  },
  {
   "cell_type": "code",
   "execution_count": 6,
   "metadata": {},
   "outputs": [
    {
     "name": "stdout",
     "output_type": "stream",
     "text": [
      "0.3516457707793893\n"
     ]
    }
   ],
   "source": [
    "T_initial = 25 + 273.15 #C -> K\n",
    "T_final = 100 + 273.15 #C -> K\n",
    "V_initial = 0.5 * 0.001 #L -> m^3\n",
    "V_final = 1 * 0.001 #L -> m^3\n",
    "P_initial = 1 * 101325 #Atm -> Pa\n",
    "n = P_initial * V_initial / (R * T_initial)\n",
    "\n",
    "\n",
    "Cv = (3/2) * n * R #Assume Ar behaves as a monoatomic idg\n",
    "Cp = Cv + n*R\n",
    "\n",
    "Del_S_isochoric = Cv*np.log(T_final / T_initial)\n",
    "Del_S_isobaric = Cp*np.log(V_final / V_initial)\n",
    "Del_S_tot = Del_S_isochoric + Del_S_isobaric\n",
    "print(Del_S_tot) #Total Entropy Change in J/K"
   ]
  },
  {
   "cell_type": "markdown",
   "metadata": {},
   "source": [
    "### Problem 3.3\n",
    "*Part A*"
   ]
  },
  {
   "cell_type": "code",
   "execution_count": 7,
   "metadata": {},
   "outputs": [
    {
     "name": "stdout",
     "output_type": "stream",
     "text": [
      "Left Mult.:\t1.0\n",
      "Right Mult.:\t47129212243960.0\n",
      "Total Mult.:\t47129212243960.0\n",
      "\n",
      "Left S:\t\t0.0\n",
      "Right S:\t4.346944605367547e-22\n",
      "Total S:\t4.346944605367547e-22\n"
     ]
    }
   ],
   "source": [
    "Ntot = 10\n",
    "Vtot = 60\n",
    "nL = 10\n",
    "VL = 10\n",
    "nR = 20\n",
    "VR = Vtot - VL\n",
    "\n",
    "def n_choose_k(n, k):\n",
    "    return np.math.factorial(n) / (np.math.factorial(k) * np.math.factorial(n-k))\n",
    "\n",
    "def Boltzmann_Entropy(W):\n",
    "    Avog = 6.022e23\n",
    "    return (R/Avog)*np.log(W)\n",
    "\n",
    "def Find_Entropy_Stats(nL, ntot, VL, Vtot):\n",
    "    W_Left = n_choose_k(VL, nL) #Multiplicity of Left\n",
    "    W_Right = n_choose_k(Vtot-VL, ntot-nL) #Multiplicity of Right\n",
    "    W_Tot = W_Left * W_Right\n",
    "    \n",
    "    S_Left = Boltzmann_Entropy(W_Left)\n",
    "    S_Right = Boltzmann_Entropy(W_Right)\n",
    "    S_Total = S_Left + S_Right\n",
    "    return (W_Left, W_Right, W_Tot, S_Left, S_Right, S_Total)\n",
    "    \n",
    "\n",
    "print(\"Left Mult.:\\t{}\\nRight Mult.:\\t{}\\nTotal Mult.:\\t{}\\n\\nLeft S:\\t\\t{}\\nRight S:\\t{}\\nTotal S:\\t{}\".format(*Find_Entropy_Stats(nL, nL+nR, VL, Vtot)))\n",
    "\n",
    "\n",
    "\n",
    "\n",
    "\n"
   ]
  },
  {
   "cell_type": "markdown",
   "metadata": {},
   "source": [
    "*Part B*\n",
    "##### The equilibrium position will lie where entropy (S) is maximized. From the plot shown below, this is at V$_L$=20 and V$_R$=40 "
   ]
  },
  {
   "cell_type": "code",
   "execution_count": 24,
   "metadata": {},
   "outputs": [
    {
     "data": {
      "text/plain": [
       "Text(0.5, 1.0, 'Entropy Dependence on Number of Cells in \\nLeft Subsystem (V$_L$) where n$_L$=10, n$_{tot}$=30, and V$_{tot}$=60  \\n')"
      ]
     },
     "execution_count": 24,
     "metadata": {},
     "output_type": "execute_result"
    },
    {
     "data": {
      "image/png": "[encoded data removed]",
      "text/plain": [
       "<Figure size 432x288 with 1 Axes>"
      ]
     },
     "metadata": {
      "needs_background": "light"
     },
     "output_type": "display_data"
    }
   ],
   "source": [
    "Vls = [x*5 + 10 for x in range(0,7)]\n",
    "S_total_vals = [Find_Entropy_Stats(nL, nL+nR, y, Vtot)[5] for y in Vls]\n",
    "plt.plot(Vls, S_total_vals, 'or')\n",
    "plt.xlabel(\"V$_L$\")\n",
    "plt.ylabel(\"Total S (J*K$^{-1}$)\")\n",
    "plt.title(\"Entropy Dependence on Number of Cells in \\nLeft Subsystem (V$_L$) where n$_L$=10, n$_{tot}$=30, and V$_{tot}$=60  \\n\")\n",
    "\n"
   ]
  }
 ],
 "metadata": {
  "kernelspec": {
   "display_name": "Python 3",
   "language": "python",
   "name": "python3"
  },
  "language_info": {
   "codemirror_mode": {
    "name": "ipython",
    "version": 3
   },
   "file_extension": ".py",
   "mimetype": "text/x-python",
   "name": "python",
   "nbconvert_exporter": "python",
   "pygments_lexer": "ipython3",
   "version": "3.8.3"
  }
 },
 "nbformat": 4,
 "nbformat_minor": 4
}
