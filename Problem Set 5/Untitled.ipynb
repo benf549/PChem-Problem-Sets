{
 "cells": [
  {
   "cell_type": "code",
   "execution_count": 2,
   "metadata": {},
   "outputs": [],
   "source": [
    "import matplotlib.pyplot as plt\n",
    "import numpy as np\n"
   ]
  },
  {
   "cell_type": "code",
   "execution_count": 3,
   "metadata": {},
   "outputs": [
    {
     "name": "stdout",
     "output_type": "stream",
     "text": [
      "None\n"
     ]
    }
   ],
   "source": [
    "def f(T, Tm, DH, DC):\n",
    "    DG = DH + DC*(T-Tm) - ((T*DH)/Tm) - T*DC*np.log(T/Tm)\n",
    "    K = np.e ** (-DG / 8.314)\n",
    "    return \n",
    "    \n",
    "Ts = np.arange(200,500,1)\n",
    "D = f(Ts, 330, -50, -2)\n",
    "print(D)\n"
   ]
  }
 ],
 "metadata": {
  "kernelspec": {
   "display_name": "Python 3",
   "language": "python",
   "name": "python3"
  },
  "language_info": {
   "codemirror_mode": {
    "name": "ipython",
    "version": 3
   },
   "file_extension": ".py",
   "mimetype": "text/x-python",
   "name": "python",
   "nbconvert_exporter": "python",
   "pygments_lexer": "ipython3",
   "version": "3.8.5"
  }
 },
 "nbformat": 4,
 "nbformat_minor": 4
}
