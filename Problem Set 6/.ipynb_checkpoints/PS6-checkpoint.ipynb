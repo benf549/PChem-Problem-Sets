{
 "cells": [
  {
   "cell_type": "code",
   "execution_count": 1,
   "metadata": {},
   "outputs": [],
   "source": [
    "import pandas as pd\n",
    "import numpy as np\n",
    "import matplotlib.pyplot as plt\n",
    "from scipy.optimize import curve_fit\n",
    "\n",
    "from matplotlib import cm\n",
    "from mpl_toolkits.mplot3d import Axes3D"
   ]
  },
  {
   "cell_type": "markdown",
   "metadata": {},
   "source": [
    "### Problem 6.0   \n",
    "> The fit value of Tm is 331.9 K which is in line with visual inspection of the data (where the peak is). The fit value of $\\Delta$C$_p$ is 6.29 KJ/mol K which is also in line with visual inspection of the difference between the two baselines. The fit value of $\\Delta$$\\overline{H_m}$ is 396.2 KJ/mol which is in line with expectations as well as the heat capacity should be positive for the endothermic process of temperature unfolding and it is about what Dr. Barrick told us to expect for an unfolding transition with a range of around 15 K"
   ]
  },
  {
   "cell_type": "code",
   "execution_count": 8,
   "metadata": {},
   "outputs": [
    {
     "name": "stdout",
     "output_type": "stream",
     "text": [
      "['Cp_d', 'DeltaCp', 'Tm', 'DeltaHm'] = [  4.17179616   6.28907394 331.9146664  396.23614068]\n"
     ]
    }
   ],
   "source": [
    "df = pd.read_csv('./DSC_data_scaled.txt', header=None, sep=' ')\n",
    "Temps = df[0]\n",
    "dCp = df[1]\n",
    "\n",
    "\n",
    "\n",
    "\n",
    "def differential_heat_capacity(T, Cp_d, DeltaCp, Tm, DeltaHm):\n",
    "    R = 8.3145e-3 #IDG Contant in KJ/mol K\n",
    "    Delta_G = DeltaHm - T*(DeltaHm/Tm)\n",
    "    K = np.exp(-(Delta_G / (R * T)))\n",
    "    fN = K / (1 + K)\n",
    "    fD = 1 / (1 + K)\n",
    "    \n",
    "    Cp_pwa = Cp_d + fN * DeltaCp\n",
    "    Cp_excess = fN*fD * DeltaHm**2 / (R*T**2)\n",
    "    \n",
    "    differential_Cp = Cp_pwa + Cp_excess\n",
    "    \n",
    "    return differential_Cp\n",
    "\n",
    "\n",
    "guesses = [11, 7, 332.5, 400]\n",
    "popt, pcov = curve_fit(differential_heat_capacity, Temps, dCp, guesses)\n",
    "print(['Cp_d', 'DeltaCp', 'Tm', 'DeltaHm'], '=', popt)"
   ]
  },
  {
   "cell_type": "markdown",
   "metadata": {},
   "source": [
    "### Problem 6.1    \n",
    "> The midpoint of the C$_{p,PWA}$ curve corresponds to the peak of the fit curve which both occur at the Tm (331.9 K)"
   ]
  },
  {
   "cell_type": "code",
   "execution_count": 5,
   "metadata": {},
   "outputs": [
    {
     "data": {
      "image/png": "[encoded data removed]",
      "text/plain": [
       "<Figure size 432x288 with 1 Axes>"
      ]
     },
     "metadata": {
      "needs_background": "light"
     },
     "output_type": "display_data"
    }
   ],
   "source": [
    "\n",
    "def pwa(T, Cp_d, DeltaCp, Tm, DeltaHm):\n",
    "    R = 8.3145e-3 #IDG Contant in KJ/mol K\n",
    "    Delta_G = DeltaHm - T*(DeltaHm/Tm)\n",
    "    K = np.exp(-(Delta_G / (R * T)))\n",
    "    fN = K / (1 + K)\n",
    "    fD = 1 / (1 + K)\n",
    "    \n",
    "    Cp_pwa = Cp_d + fN * DeltaCp\n",
    "    Cp_excess = fN*fD * DeltaHm**2 / (R*T**2)\n",
    "    \n",
    "    differential_Cp = Cp_pwa #+ Cp_excess\n",
    "    \n",
    "    return differential_Cp\n",
    "\n",
    "pwas = pwa(Temps, *popt)\n",
    "\n",
    "plt.plot(Temps, dCp, 'o', color='steelblue')\n",
    "plt.plot(Temps, differential_heat_capacity(Temps, *popt) ,'k', label='Fit')\n",
    "plt.plot(Temps, pwas, 'r',label='C$_{p, PWA}$')\n",
    "\n",
    "plt.title(\"Plot of Differential Heat Capacity as a Function of Temperature\")\n",
    "plt.legend()\n",
    "plt.xlabel('Temperature (K)')\n",
    "plt.ylabel('$\\delta$$\\overline{Cp}$ (KJ mol$^{-1}$ K$^{-1}$)');"
   ]
  },
  {
   "cell_type": "markdown",
   "metadata": {},
   "source": [
    "### Problem 6.2\n",
    "> The simple riemann sum function below returns an area of 396.2 KJ / mol. This is the same value as obtained for $\\Delta$$\\overline{H_m}$ from the curve fit!"
   ]
  },
  {
   "cell_type": "code",
   "execution_count": 6,
   "metadata": {},
   "outputs": [
    {
     "name": "stdout",
     "output_type": "stream",
     "text": [
      "Area: 396.2236863897687\n"
     ]
    }
   ],
   "source": [
    "def riemann_sum(a, b, curve1, curve2, bin_width):\n",
    "    '''\n",
    "    Calculates a simple Riemann sum by finding the area as the sum of area of rectangles with height curve2 - curve1 and width bin_width from a to b. \n",
    "    '''\n",
    "    sum = 0\n",
    "    x = np.arange(a, b + bin_width, bin_width)\n",
    "    \n",
    "    vals1 = curve1(x, *popt)\n",
    "    vals2 = curve2(x, *popt)\n",
    "    for i,j in enumerate(x):\n",
    "        h = vals2[i] - vals1[i]\n",
    "        sum += h * bin_width\n",
    "    return sum\n",
    "    \n",
    "area = riemann_sum(Temps[0], Temps[len(Temps)-1], pwa, differential_heat_capacity, 0.01)\n",
    "print('Area:', area)"
   ]
  },
  {
   "cell_type": "markdown",
   "metadata": {},
   "source": [
    "### Problem 6.6"
   ]
  },
  {
   "cell_type": "code",
   "execution_count": 54,
   "metadata": {},
   "outputs": [
    {
     "name": "stdout",
     "output_type": "stream",
     "text": [
      "(21, 21)\n",
      "(21, 21)\n"
     ]
    },
    {
     "name": "stderr",
     "output_type": "stream",
     "text": [
      "<ipython-input-54-22c7d7b0a08a>:5: RuntimeWarning: invalid value encountered in log\n",
      "  first = N1*np.log(N1) if not N1 == 0 else 0\n"
     ]
    }
   ],
   "source": [
    "def log_number_of_ways(N2, N3):\n",
    "    A = 20\n",
    "    N1 = A - N2 - N3\n",
    "\n",
    "    first = N1*np.log(N1) if not N1 == 0 else 0\n",
    "    second = N2*np.log(N2) if not N2 == 0 else 0\n",
    "    third = N3*np.log(N3) if not N3 == 0 else 0\n",
    "    \n",
    "    out = A*np.log(A) - ( first + second + third) if N1+N2+N3 <= A and N1 > 0 else 0\n",
    "    \n",
    "    return out\n",
    "\n",
    "N3 = N2 = np.arange(0, 21, 1)\n",
    "X, Y = np.meshgrid(N2, N3)\n",
    "\n",
    "out = []\n",
    "\n",
    "for i,j in enumerate(X):\n",
    "    row = []\n",
    "    for k,l in enumerate(j):\n",
    "        row.append(log_number_of_ways(l, Y[i][k]))\n",
    "    out.append(row)\n",
    "\n",
    "\n",
    "\n",
    "Z = np.array(out)\n",
    "#print(Z)"
   ]
  }
 ],
 "metadata": {
  "kernelspec": {
   "display_name": "Python 3",
   "language": "python",
   "name": "python3"
  },
  "language_info": {
   "codemirror_mode": {
    "name": "ipython",
    "version": 3
   },
   "file_extension": ".py",
   "mimetype": "text/x-python",
   "name": "python",
   "nbconvert_exporter": "python",
   "pygments_lexer": "ipython3",
   "version": "3.8.5"
  }
 },
 "nbformat": 4,
 "nbformat_minor": 4
}
