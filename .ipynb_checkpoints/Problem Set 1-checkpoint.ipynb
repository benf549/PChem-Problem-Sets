{
 "cells": [
  {
   "cell_type": "markdown",
   "metadata": {},
   "source": [
    "<h1>BPC Problem Set 1</h1>\n",
    "<h3>9/5/2020</h3>"
   ]
  },
  {
   "cell_type": "code",
   "execution_count": 20,
   "metadata": {
    "tags": []
   },
   "outputs": [],
   "source": [
    "import numpy as np\n",
    "import matplotlib.pyplot as plt"
   ]
  },
  {
   "cell_type": "markdown",
   "metadata": {},
   "source": [
    "<h4>Problem A1</h4>"
   ]
  },
  {
   "cell_type": "code",
   "execution_count": 21,
   "metadata": {
    "tags": []
   },
   "outputs": [
    {
     "name": "stdout",
     "output_type": "stream",
     "text": [
      "[1, 3.141592653589793, 0.37, 403.428793492735]\n"
     ]
    }
   ],
   "source": [
    "a = [1, np.pi, 0.37, np.power(np.e,6)]\n",
    "print(a)"
   ]
  },
  {
   "cell_type": "markdown",
   "metadata": {},
   "source": [
    "<h4>Problem A2</h4>"
   ]
  },
  {
   "cell_type": "code",
   "execution_count": 22,
   "metadata": {},
   "outputs": [
    {
     "data": {
      "text/plain": [
       "list"
      ]
     },
     "execution_count": 22,
     "metadata": {},
     "output_type": "execute_result"
    }
   ],
   "source": [
    "type(a)"
   ]
  },
  {
   "cell_type": "markdown",
   "metadata": {},
   "source": [
    "<h4>Problem A3</h4>"
   ]
  },
  {
   "cell_type": "code",
   "execution_count": 23,
   "metadata": {
    "tags": []
   },
   "outputs": [
    {
     "name": "stdout",
     "output_type": "stream",
     "text": [
      "[3, 5.141592653589793, 2.37, 405.428793492735]\n"
     ]
    }
   ],
   "source": [
    "b = [x+2 for x in a]\n",
    "print(b)"
   ]
  },
  {
   "cell_type": "markdown",
   "metadata": {},
   "source": [
    "<h4>Problem A4</h4>"
   ]
  },
  {
   "cell_type": "code",
   "execution_count": 24,
   "metadata": {
    "tags": []
   },
   "outputs": [
    {
     "name": "stdout",
     "output_type": "stream",
     "text": [
      "[1.5, 2.5707963267948966, 1.185, 202.7143967463675]\n"
     ]
    }
   ],
   "source": [
    "c = [x/2 for x in b]\n",
    "print(c)"
   ]
  },
  {
   "cell_type": "markdown",
   "metadata": {},
   "source": [
    "<h4>Problem A5</h4>"
   ]
  },
  {
   "cell_type": "code",
   "execution_count": 25,
   "metadata": {
    "tags": []
   },
   "outputs": [
    {
     "name": "stdout",
     "output_type": "stream",
     "text": [
      "[ 1  2  3  4  5  6  7  8  9 10 11 12 13 14 15 16 17 18 19 20 21 22 23 24\n",
      " 25 26 27 28 29 30 31 32 33 34 35 36 37]\n"
     ]
    }
   ],
   "source": [
    "_1_to_37_step_1 = np.arange(1, 38, 1)\n",
    "print(_1_to_37_step_1)"
   ]
  },
  {
   "cell_type": "markdown",
   "metadata": {},
   "source": [
    "<h4>Problem A6</h4>"
   ]
  },
  {
   "cell_type": "code",
   "execution_count": 26,
   "metadata": {
    "tags": []
   },
   "outputs": [
    {
     "name": "stdout",
     "output_type": "stream",
     "text": [
      "[0.  0.1 0.2 0.3 0.4 0.5 0.6 0.7 0.8 0.9 1.  1.1 1.2 1.3 1.4 1.5 1.6 1.7\n",
      " 1.8 1.9 2.  2.1 2.2 2.3 2.4 2.5 2.6 2.7 2.8 2.9 3.  3.1 3.2 3.3 3.4 3.5\n",
      " 3.6 3.7 3.8 3.9 4.  4.1 4.2 4.3 4.4 4.5 4.6 4.7 4.8 4.9 5.  5.1 5.2 5.3\n",
      " 5.4 5.5 5.6 5.7 5.8 5.9 6. ]\n"
     ]
    }
   ],
   "source": [
    "d = np.arange(0, 6.1, 0.1)\n",
    "print(d)"
   ]
  },
  {
   "cell_type": "markdown",
   "metadata": {},
   "source": [
    "<h4>Problem A7</h4>"
   ]
  },
  {
   "cell_type": "code",
   "execution_count": 27,
   "metadata": {},
   "outputs": [
    {
     "data": {
      "text/plain": [
       "61"
      ]
     },
     "execution_count": 27,
     "metadata": {},
     "output_type": "execute_result"
    }
   ],
   "source": [
    "len(d)"
   ]
  },
  {
   "cell_type": "markdown",
   "metadata": {},
   "source": [
    "<h4>Problem A8</h4>"
   ]
  },
  {
   "cell_type": "code",
   "execution_count": 28,
   "metadata": {
    "tags": []
   },
   "outputs": [
    {
     "name": "stdout",
     "output_type": "stream",
     "text": [
      "[2, 3, 5, 7, 11, 13, 17, 19, 23, 29, 31, 37, 41, 43, 47, 53, 59, 61, 67, 71]\n"
     ]
    }
   ],
   "source": [
    "myprimes = []\n",
    "count = 2\n",
    "while len(myprimes) < 20:\n",
    "    flag = True\n",
    "    for i in range(count):\n",
    "        if ((i+1) != 1) and ((i+1) != count) and (count / (i+1) == count // (i+1)) :\n",
    "            flag = False\n",
    "\n",
    "    if flag :\n",
    "        myprimes.append(count)\n",
    "        count += 1\n",
    "    else :\n",
    "        count += 1\n",
    "\n",
    "print(myprimes)\n"
   ]
  },
  {
   "cell_type": "markdown",
   "metadata": {},
   "source": [
    "<h4>Problem A9</h4>"
   ]
  },
  {
   "cell_type": "code",
   "execution_count": 29,
   "metadata": {
    "tags": []
   },
   "outputs": [
    {
     "data": {
      "text/plain": [
       "([<matplotlib.axis.XTick at 0x7fbbfea5c610>,\n",
       "  <matplotlib.axis.XTick at 0x7fbbfea5ca60>,\n",
       "  <matplotlib.axis.XTick at 0x7fbbfea5a370>,\n",
       "  <matplotlib.axis.XTick at 0x7fbbfe9fcb50>,\n",
       "  <matplotlib.axis.XTick at 0x7fbbfea030a0>,\n",
       "  <matplotlib.axis.XTick at 0x7fbbfea035b0>,\n",
       "  <matplotlib.axis.XTick at 0x7fbbfea03ac0>,\n",
       "  <matplotlib.axis.XTick at 0x7fbbfea037c0>,\n",
       "  <matplotlib.axis.XTick at 0x7fbbfea03e20>,\n",
       "  <matplotlib.axis.XTick at 0x7fbbfea0a370>,\n",
       "  <matplotlib.axis.XTick at 0x7fbbfea0a880>,\n",
       "  <matplotlib.axis.XTick at 0x7fbbfea0ad90>,\n",
       "  <matplotlib.axis.XTick at 0x7fbbfea0e2e0>,\n",
       "  <matplotlib.axis.XTick at 0x7fbbfea0e7f0>,\n",
       "  <matplotlib.axis.XTick at 0x7fbbfea0ed00>,\n",
       "  <matplotlib.axis.XTick at 0x7fbbfea14250>,\n",
       "  <matplotlib.axis.XTick at 0x7fbbfea14760>,\n",
       "  <matplotlib.axis.XTick at 0x7fbbfea0e460>,\n",
       "  <matplotlib.axis.XTick at 0x7fbbfea0a4f0>,\n",
       "  <matplotlib.axis.XTick at 0x7fbbfe9fcbe0>],\n",
       " <a list of 20 Text major ticklabel objects>)"
      ]
     },
     "execution_count": 29,
     "metadata": {},
     "output_type": "execute_result"
    },
    {
     "data": {
      "image/png": "[encoded data removed]",
      "text/plain": [
       "<Figure size 432x288 with 1 Axes>"
      ]
     },
     "metadata": {
      "needs_background": "light"
     },
     "output_type": "display_data"
    }
   ],
   "source": [
    "plt.plot(myprimes)\n",
    "plt.ylabel(\"myprimes\")\n",
    "plt.xlabel(\"index of prime\")\n",
    "plt.xticks(np.arange(0, 20, 1))"
   ]
  },
  {
   "cell_type": "code",
   "execution_count": 30,
   "metadata": {},
   "outputs": [
    {
     "data": {
      "text/plain": [
       "([<matplotlib.axis.XTick at 0x7fbbfe9c6be0>,\n",
       "  <matplotlib.axis.XTick at 0x7fbbfe9c6bb0>,\n",
       "  <matplotlib.axis.XTick at 0x7fbbfeaee820>,\n",
       "  <matplotlib.axis.XTick at 0x7fbbfe9ec700>,\n",
       "  <matplotlib.axis.XTick at 0x7fbbfe9ecc10>,\n",
       "  <matplotlib.axis.XTick at 0x7fbbfe9f1160>,\n",
       "  <matplotlib.axis.XTick at 0x7fbbfe9f1670>,\n",
       "  <matplotlib.axis.XTick at 0x7fbbfe9f1b80>,\n",
       "  <matplotlib.axis.XTick at 0x7fbbfe9ec8e0>,\n",
       "  <matplotlib.axis.XTick at 0x7fbbfe9f12b0>,\n",
       "  <matplotlib.axis.XTick at 0x7fbbfe9f8280>,\n",
       "  <matplotlib.axis.XTick at 0x7fbbfe9f8790>,\n",
       "  <matplotlib.axis.XTick at 0x7fbbfe9f8ca0>,\n",
       "  <matplotlib.axis.XTick at 0x7fbbfe97d1f0>,\n",
       "  <matplotlib.axis.XTick at 0x7fbbfe97d700>,\n",
       "  <matplotlib.axis.XTick at 0x7fbbfe97dc10>,\n",
       "  <matplotlib.axis.XTick at 0x7fbbfe982160>,\n",
       "  <matplotlib.axis.XTick at 0x7fbbfe97d790>,\n",
       "  <matplotlib.axis.XTick at 0x7fbbfe9f8820>,\n",
       "  <matplotlib.axis.XTick at 0x7fbbfe9ec820>],\n",
       " <a list of 20 Text major ticklabel objects>)"
      ]
     },
     "execution_count": 30,
     "metadata": {},
     "output_type": "execute_result"
    },
    {
     "data": {
      "image/png": "[encoded data removed]",
      "text/plain": [
       "<Figure size 432x288 with 1 Axes>"
      ]
     },
     "metadata": {
      "needs_background": "light"
     },
     "output_type": "display_data"
    }
   ],
   "source": [
    "logprimes = [np.log10(x) for x in myprimes]\n",
    "plt.plot(logprimes)\n",
    "plt.ylabel(\"$Log_{10}(myprimes)$\")\n",
    "plt.xlabel(\"Index of Prime\")\n",
    "plt.xticks(np.arange(0, 20, 1))"
   ]
  },
  {
   "cell_type": "markdown",
   "metadata": {},
   "source": [
    "<h4>Problem A10</h4>"
   ]
  },
  {
   "cell_type": "code",
   "execution_count": 31,
   "metadata": {
    "tags": []
   },
   "outputs": [
    {
     "data": {
      "text/plain": [
       "[<matplotlib.lines.Line2D at 0x7fbbfebd9cd0>]"
      ]
     },
     "execution_count": 31,
     "metadata": {},
     "output_type": "execute_result"
    },
    {
     "data": {
      "image/png": "[encoded data removed]",
      "text/plain": [
       "<Figure size 432x288 with 1 Axes>"
      ]
     },
     "metadata": {
      "needs_background": "light"
     },
     "output_type": "display_data"
    }
   ],
   "source": [
    "T = 300 #Temperature in K\n",
    "n = 1 #number of moles of gas\n",
    "R = 8.3145 #ideal gas constant in m3 Pa K-1 mol-1\n",
    "V = np.arange(0.01, 1.01, 0.01) #Volume range in m3\n",
    "P = [(n*R*T)/x for x in V] #Pressure in Pascals\n",
    "plt.plot(V, P)"
   ]
  },
  {
   "cell_type": "markdown",
   "metadata": {},
   "source": [
    "<h4>Problem A11</h4>"
   ]
  },
  {
   "cell_type": "code",
   "execution_count": 32,
   "metadata": {},
   "outputs": [
    {
     "data": {
      "text/plain": [
       "Text(0.5, 0, 'Volume ($m^3$)')"
      ]
     },
     "execution_count": 32,
     "metadata": {},
     "output_type": "execute_result"
    },
    {
     "data": {
      "image/png": "[encoded data removed]",
      "text/plain": [
       "<Figure size 432x288 with 1 Axes>"
      ]
     },
     "metadata": {
      "needs_background": "light"
     },
     "output_type": "display_data"
    }
   ],
   "source": [
    "plt.plot(V, P)\n",
    "plt.title(\"Plot of Pressure as a Function of Volume for 1mol of Gas at 300K\")\n",
    "plt.ylabel(\"Pressure (Pa)\")\n",
    "plt.xlabel(\"Volume ($m^3$)\")"
   ]
  },
  {
   "cell_type": "markdown",
   "metadata": {},
   "source": [
    "<h4>Problem A12</h4>"
   ]
  },
  {
   "cell_type": "code",
   "execution_count": 33,
   "metadata": {
    "tags": []
   },
   "outputs": [
    {
     "data": {
      "text/plain": [
       "<matplotlib.legend.Legend at 0x7fbbfe923550>"
      ]
     },
     "execution_count": 33,
     "metadata": {},
     "output_type": "execute_result"
    },
    {
     "data": {
      "image/png": "[encoded data removed]",
      "text/plain": [
       "<Figure size 432x288 with 1 Axes>"
      ]
     },
     "metadata": {
      "needs_background": "light"
     },
     "output_type": "display_data"
    }
   ],
   "source": [
    "T = 300 #Temperature in K\n",
    "n = 1 #number of moles of gas\n",
    "R = 8.3145 #ideal gas constant in m3 Pa K-1 mol-1\n",
    "V = np.arange(0.01, 1.01, 0.01) #Volume range in m3\n",
    "P = [(n*R*T)/x for x in V] #Pressure in Pascals\n",
    "\n",
    "T2 = 150 #Temperature for second plot in K\n",
    "P2 = [(n*R*T2)/x for x in V] #Pressure range in Pascalse at second Temperature\n",
    "\n",
    "plot1, = plt.plot(V, P, color = \"red\", linestyle = ':', marker=\"o\")\n",
    "plot2, = plt.plot(V, P2, color = \"green\", linestyle='-.', marker=11)\n",
    "\n",
    "plt.title(\"Plot of Pressure as a Function of Volume for 1mol of Gas\")\n",
    "plt.ylabel(\"Pressure (Pa)\")\n",
    "plt.xlabel(\"Volume ($m^3$)\")\n",
    "plt.legend([plot1, plot2], [\"300K\", \"150K\"], title=\"Gas Temperature\")"
   ]
  }
 ],
 "metadata": {
  "kernelspec": {
   "display_name": "Python 3",
   "language": "python",
   "name": "python3"
  },
  "language_info": {
   "codemirror_mode": {
    "name": "ipython",
    "version": 3
   },
   "file_extension": ".py",
   "mimetype": "text/x-python",
   "name": "python",
   "nbconvert_exporter": "python",
   "pygments_lexer": "ipython3",
   "version": "3.8.3"
  }
 },
 "nbformat": 4,
 "nbformat_minor": 4
}
