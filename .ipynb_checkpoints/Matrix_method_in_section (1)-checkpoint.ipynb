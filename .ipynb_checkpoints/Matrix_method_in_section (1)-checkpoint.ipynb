{
 "cells": [
  {
   "cell_type": "code",
   "execution_count": 1,
   "metadata": {},
   "outputs": [],
   "source": [
    "import pandas as pd\n",
    "import numpy as np\n",
    "import matplotlib.pyplot as plt\n",
    "import sympy as sp"
   ]
  },
  {
   "cell_type": "code",
   "execution_count": 5,
   "metadata": {},
   "outputs": [],
   "source": [
    "k, t = sp.symbols('k t')"
   ]
  },
  {
   "cell_type": "code",
   "execution_count": 12,
   "metadata": {},
   "outputs": [],
   "source": [
    "w = sp.Matrix([[k*t, 1],[k, 1]])\n",
    "n = sp.Matrix([[0, 1]])\n",
    "c = sp.Matrix([[1],[1]])"
   ]
  },
  {
   "cell_type": "code",
   "execution_count": 13,
   "metadata": {},
   "outputs": [
    {
     "data": {
      "text/latex": [
       "$\\displaystyle \\left[\\begin{matrix}1\\\\1\\end{matrix}\\right]$"
      ],
      "text/plain": [
       "Matrix([\n",
       "[1],\n",
       "[1]])"
      ]
     },
     "execution_count": 13,
     "metadata": {},
     "output_type": "execute_result"
    }
   ],
   "source": [
    "c"
   ]
  },
  {
   "cell_type": "code",
   "execution_count": 24,
   "metadata": {},
   "outputs": [],
   "source": [
    "rho10 = n*w**10*c"
   ]
  },
  {
   "cell_type": "code",
   "execution_count": 25,
   "metadata": {},
   "outputs": [
    {
     "data": {
      "text/latex": [
       "$\\displaystyle \\left(k \\left(\\left(k + 1\\right) \\left(k t + 1\\right) + \\left(k t + 1\\right) \\left(k^{2} t^{2} + k\\right)\\right) + \\left(k + 1\\right)^{2} + \\left(k t + 1\\right) \\left(k^{2} t + k\\right)\\right)^{2} + \\left(k \\left(\\left(k + 1\\right) \\left(k t + 1\\right) + \\left(k t + 1\\right) \\left(k^{2} t^{2} + k\\right)\\right) + \\left(k + 1\\right)^{2} + \\left(k t + 1\\right) \\left(k^{2} t + k\\right)\\right) \\left(k \\left(\\left(k t + 1\\right) \\left(k^{2} t + k\\right) + \\left(k^{2} t^{2} + k\\right)^{2}\\right) + \\left(k + 1\\right) \\left(k^{2} t + k\\right) + \\left(k^{2} t + k\\right) \\left(k^{2} t^{2} + k\\right)\\right) + \\left(k \\left(\\left(k t + 1\\right) \\left(k^{2} t + k\\right) + \\left(k^{2} t^{2} + k\\right)^{2}\\right) + \\left(k + 1\\right) \\left(k^{2} t + k\\right) + \\left(k^{2} t + k\\right) \\left(k^{2} t^{2} + k\\right)\\right) \\left(k t \\left(\\left(k + 1\\right) \\left(k t + 1\\right) + \\left(k t + 1\\right) \\left(k^{2} t^{2} + k\\right)\\right) + \\left(k + 1\\right)^{2} + \\left(k t + 1\\right) \\left(k^{2} t + k\\right)\\right) + \\left(k \\left(\\left(k t + 1\\right) \\left(k^{2} t + k\\right) + \\left(k^{2} t^{2} + k\\right)^{2}\\right) + \\left(k + 1\\right) \\left(k^{2} t + k\\right) + \\left(k^{2} t + k\\right) \\left(k^{2} t^{2} + k\\right)\\right) \\left(k t \\left(\\left(k t + 1\\right) \\left(k^{2} t + k\\right) + \\left(k^{2} t^{2} + k\\right)^{2}\\right) + \\left(k + 1\\right) \\left(k^{2} t + k\\right) + \\left(k^{2} t + k\\right) \\left(k^{2} t^{2} + k\\right)\\right)$"
      ],
      "text/plain": [
       "(k*((k + 1)*(k*t + 1) + (k*t + 1)*(k**2*t**2 + k)) + (k + 1)**2 + (k*t + 1)*(k**2*t + k))**2 + (k*((k + 1)*(k*t + 1) + (k*t + 1)*(k**2*t**2 + k)) + (k + 1)**2 + (k*t + 1)*(k**2*t + k))*(k*((k*t + 1)*(k**2*t + k) + (k**2*t**2 + k)**2) + (k + 1)*(k**2*t + k) + (k**2*t + k)*(k**2*t**2 + k)) + (k*((k*t + 1)*(k**2*t + k) + (k**2*t**2 + k)**2) + (k + 1)*(k**2*t + k) + (k**2*t + k)*(k**2*t**2 + k))*(k*t*((k + 1)*(k*t + 1) + (k*t + 1)*(k**2*t**2 + k)) + (k + 1)**2 + (k*t + 1)*(k**2*t + k)) + (k*((k*t + 1)*(k**2*t + k) + (k**2*t**2 + k)**2) + (k + 1)*(k**2*t + k) + (k**2*t + k)*(k**2*t**2 + k))*(k*t*((k*t + 1)*(k**2*t + k) + (k**2*t**2 + k)**2) + (k + 1)*(k**2*t + k) + (k**2*t + k)*(k**2*t**2 + k))"
      ]
     },
     "execution_count": 25,
     "metadata": {},
     "output_type": "execute_result"
    }
   ],
   "source": [
    "rho10[0]"
   ]
  },
  {
   "cell_type": "code",
   "execution_count": 30,
   "metadata": {},
   "outputs": [],
   "source": [
    "rho10simple = sp.simplify(rho10[0])"
   ]
  },
  {
   "cell_type": "code",
   "execution_count": 28,
   "metadata": {},
   "outputs": [
    {
     "data": {
      "text/latex": [
       "$\\displaystyle 10 k^{9} t^{9} + 18 k^{8} t^{8} + 72 k^{8} t^{7} + 24 k^{7} t^{7} + 168 k^{7} t^{6} + 168 k^{7} t^{5} + 28 k^{6} t^{6} + 252 k^{6} t^{5} + 420 k^{6} t^{4} + 140 k^{6} t^{3} + 30 k^{5} t^{5} + 300 k^{5} t^{4} + 600 k^{5} t^{3} + 300 k^{5} t^{2} + 30 k^{5} t + 30 k^{4} t^{4} + 300 k^{4} t^{3} + 600 k^{4} t^{2} + 300 k^{4} t + 30 k^{4} + 28 k^{3} t^{3} + 252 k^{3} t^{2} + 420 k^{3} t + 140 k^{3} + 24 k^{2} t^{2} + 168 k^{2} t + 168 k^{2} + 18 k t + 72 k + 10$"
      ],
      "text/plain": [
       "10*k**9*t**9 + 18*k**8*t**8 + 72*k**8*t**7 + 24*k**7*t**7 + 168*k**7*t**6 + 168*k**7*t**5 + 28*k**6*t**6 + 252*k**6*t**5 + 420*k**6*t**4 + 140*k**6*t**3 + 30*k**5*t**5 + 300*k**5*t**4 + 600*k**5*t**3 + 300*k**5*t**2 + 30*k**5*t + 30*k**4*t**4 + 300*k**4*t**3 + 600*k**4*t**2 + 300*k**4*t + 30*k**4 + 28*k**3*t**3 + 252*k**3*t**2 + 420*k**3*t + 140*k**3 + 24*k**2*t**2 + 168*k**2*t + 168*k**2 + 18*k*t + 72*k + 10"
      ]
     },
     "execution_count": 28,
     "metadata": {},
     "output_type": "execute_result"
    }
   ],
   "source": [
    "sp.diff(rho10simple, k)"
   ]
  },
  {
   "cell_type": "code",
   "execution_count": 31,
   "metadata": {},
   "outputs": [],
   "source": [
    "fh10 = k/(10*rho10simple)*sp.diff(rho10simple, k)"
   ]
  },
  {
   "cell_type": "code",
   "execution_count": 32,
   "metadata": {},
   "outputs": [
    {
     "data": {
      "text/latex": [
       "$\\displaystyle \\frac{k \\left(10 k^{9} t^{9} + 18 k^{8} t^{8} + 72 k^{8} t^{7} + 24 k^{7} t^{7} + 168 k^{7} t^{6} + 168 k^{7} t^{5} + 28 k^{6} t^{6} + 252 k^{6} t^{5} + 420 k^{6} t^{4} + 140 k^{6} t^{3} + 30 k^{5} t^{5} + 300 k^{5} t^{4} + 600 k^{5} t^{3} + 300 k^{5} t^{2} + 30 k^{5} t + 30 k^{4} t^{4} + 300 k^{4} t^{3} + 600 k^{4} t^{2} + 300 k^{4} t + 30 k^{4} + 28 k^{3} t^{3} + 252 k^{3} t^{2} + 420 k^{3} t + 140 k^{3} + 24 k^{2} t^{2} + 168 k^{2} t + 168 k^{2} + 18 k t + 72 k + 10\\right)}{10 k^{10} t^{9} + 20 k^{9} t^{8} + 80 k^{9} t^{7} + 30 k^{8} t^{7} + 210 k^{8} t^{6} + 210 k^{8} t^{5} + 40 k^{7} t^{6} + 360 k^{7} t^{5} + 600 k^{7} t^{4} + 200 k^{7} t^{3} + 50 k^{6} t^{5} + 500 k^{6} t^{4} + 1000 k^{6} t^{3} + 500 k^{6} t^{2} + 50 k^{6} t + 60 k^{5} t^{4} + 600 k^{5} t^{3} + 1200 k^{5} t^{2} + 600 k^{5} t + 60 k^{5} + 70 k^{4} t^{3} + 630 k^{4} t^{2} + 1050 k^{4} t + 350 k^{4} + 80 k^{3} t^{2} + 560 k^{3} t + 560 k^{3} + 90 k^{2} t + 360 k^{2} + 100 k + 10}$"
      ],
      "text/plain": [
       "k*(10*k**9*t**9 + 18*k**8*t**8 + 72*k**8*t**7 + 24*k**7*t**7 + 168*k**7*t**6 + 168*k**7*t**5 + 28*k**6*t**6 + 252*k**6*t**5 + 420*k**6*t**4 + 140*k**6*t**3 + 30*k**5*t**5 + 300*k**5*t**4 + 600*k**5*t**3 + 300*k**5*t**2 + 30*k**5*t + 30*k**4*t**4 + 300*k**4*t**3 + 600*k**4*t**2 + 300*k**4*t + 30*k**4 + 28*k**3*t**3 + 252*k**3*t**2 + 420*k**3*t + 140*k**3 + 24*k**2*t**2 + 168*k**2*t + 168*k**2 + 18*k*t + 72*k + 10)/(10*k**10*t**9 + 20*k**9*t**8 + 80*k**9*t**7 + 30*k**8*t**7 + 210*k**8*t**6 + 210*k**8*t**5 + 40*k**7*t**6 + 360*k**7*t**5 + 600*k**7*t**4 + 200*k**7*t**3 + 50*k**6*t**5 + 500*k**6*t**4 + 1000*k**6*t**3 + 500*k**6*t**2 + 50*k**6*t + 60*k**5*t**4 + 600*k**5*t**3 + 1200*k**5*t**2 + 600*k**5*t + 60*k**5 + 70*k**4*t**3 + 630*k**4*t**2 + 1050*k**4*t + 350*k**4 + 80*k**3*t**2 + 560*k**3*t + 560*k**3 + 90*k**2*t + 360*k**2 + 100*k + 10)"
      ]
     },
     "execution_count": 32,
     "metadata": {},
     "output_type": "execute_result"
    }
   ],
   "source": [
    "fh10"
   ]
  },
  {
   "cell_type": "code",
   "execution_count": 34,
   "metadata": {},
   "outputs": [],
   "source": [
    "fh10lamb = sp.lambdify([k, t], fh10)"
   ]
  },
  {
   "cell_type": "code",
   "execution_count": 37,
   "metadata": {},
   "outputs": [
    {
     "data": {
      "text/plain": [
       "0.990248223948417"
      ]
     },
     "execution_count": 37,
     "metadata": {},
     "output_type": "execute_result"
    }
   ],
   "source": [
    "fh10lamb(0.05, 434)"
   ]
  },
  {
   "cell_type": "code",
   "execution_count": null,
   "metadata": {},
   "outputs": [],
   "source": []
  }
 ],
 "metadata": {
  "kernelspec": {
   "display_name": "Python 3",
   "language": "python",
   "name": "python3"
  },
  "language_info": {
   "codemirror_mode": {
    "name": "ipython",
    "version": 3
   },
   "file_extension": ".py",
   "mimetype": "text/x-python",
   "name": "python",
   "nbconvert_exporter": "python",
   "pygments_lexer": "ipython3",
   "version": "3.7.6"
  }
 },
 "nbformat": 4,
 "nbformat_minor": 4
}
